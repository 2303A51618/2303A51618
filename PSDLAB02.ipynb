{
  "nbformat": 4,
  "nbformat_minor": 0,
  "metadata": {
    "colab": {
      "provenance": [],
      "authorship_tag": "ABX9TyPmLhZmM2yc1AhWtqBTN6aE",
      "include_colab_link": true
    },
    "kernelspec": {
      "name": "python3",
      "display_name": "Python 3"
    },
    "language_info": {
      "name": "python"
    }
  },
  "cells": [
    {
      "cell_type": "markdown",
      "metadata": {
        "id": "view-in-github",
        "colab_type": "text"
      },
      "source": [
        "<a href=\"https://colab.research.google.com/github/2303A51618/2303A51618/blob/main/LAB2.ipynb\" target=\"_parent\"><img src=\"https://colab.research.google.com/assets/colab-badge.svg\" alt=\"Open In Colab\"/></a>"
      ]
    },
    {
      "cell_type": "markdown",
      "source": [
        "Monthly Temperature Tracking Using NumPy"
      ],
      "metadata": {
        "id": "QPca68sYAOlS"
      }
    },
    {
      "cell_type": "markdown",
      "source": [
        "\n"
      ],
      "metadata": {
        "id": "WGDqsKFB3e7k"
      }
    },
    {
      "cell_type": "code",
      "execution_count": 23,
      "metadata": {
        "colab": {
          "base_uri": "https://localhost:8080/"
        },
        "id": "e9Xyo4EFzUqY",
        "outputId": "98075f9d-6c57-405c-a320-1642751b9b18"
      },
      "outputs": [
        {
          "output_type": "stream",
          "name": "stdout",
          "text": [
            "temperature in Celsius : [32 33 31 33 35 36 37 34 35 38 40 34]\n"
          ]
        }
      ],
      "source": [
        "import numpy as np\n",
        "import matplotlib.pyplot as plt\n",
        "temperature =np.array([32,33,31,33,35,36,37,34,35,38,40,34])\n",
        "print(\"temperature in Celsius :\",temperature)"
      ]
    },
    {
      "cell_type": "code",
      "source": [
        "avg_temp = np.mean(temperature)\n",
        "print(\"average temperature :\",avg_temp)\n",
        "\n",
        "hottest_temp = np.max(temperature)\n",
        "print(\"hottest temperature :\",hottest_temp)\n",
        "\n",
        "coldest_temp = np.min(temperature)\n",
        "print(\"coldest temperature :\",coldest_temp)\n",
        "\n",
        "normalize_temp = np.std(temperature)\n",
        "print(\"normalize temperature :\",normalize_temp)\n",
        "\n",
        "above_annual_avg= np.sum(temperature > avg_temp)\n",
        "print(\"above annual average :\",above_annual_avg)\n",
        "\n",
        "convert_celsius_to_fahrenhit = (temperature * 9/5) + 32\n",
        "print(\"convert celsius to fahrenhit :\",convert_celsius_to_fahrenhit)\n",
        "\n",
        "\n",
        "\n",
        "visualize_temp = plt.plot(temperature)\n",
        "print(\"visualize temperature change using matplot :\",visualize_temp)"
      ],
      "metadata": {
        "colab": {
          "base_uri": "https://localhost:8080/",
          "height": 551
        },
        "id": "s4PQ94wf3sOq",
        "outputId": "9a05cb36-b52d-4159-ab80-571618ba2f26"
      },
      "execution_count": 26,
      "outputs": [
        {
          "output_type": "stream",
          "name": "stdout",
          "text": [
            "average temperature : 34.833333333333336\n",
            "hottest temperature : 40\n",
            "coldest temperature : 31\n",
            "normalize temperature : 2.4776781245530843\n",
            "above annual average : 6\n",
            "convert celsius to fahrenhit : [ 89.6  91.4  87.8  91.4  95.   96.8  98.6  93.2  95.  100.4 104.   93.2]\n",
            "visualize temperature change using matplot : [<matplotlib.lines.Line2D object at 0x7c76a1ec19d0>]\n"
          ]
        },
        {
          "output_type": "display_data",
          "data": {
            "text/plain": [
              "<Figure size 640x480 with 1 Axes>"
            ],
            "image/png": "[encoded data removed]"
          },
          "metadata": {}
        }
      ]
    },
    {
      "cell_type": "code",
      "source": [
        "\n",
        "\n"
      ],
      "metadata": {
        "id": "7t7H68b54nZ-"
      },
      "execution_count": 25,
      "outputs": []
    },
    {
      "cell_type": "code",
      "source": [],
      "metadata": {
        "id": "BFc8SxCe_nF9"
      },
      "execution_count": null,
      "outputs": []
    },
    {
      "cell_type": "markdown",
      "source": [
        "E-commerce Sales Data Manipulation Using pandas\n"
      ],
      "metadata": {
        "id": "0j69zJAE_uBQ"
      }
    },
    {
      "cell_type": "markdown",
      "source": [],
      "metadata": {
        "id": "qklvuTBF_mc5"
      }
    },
    {
      "cell_type": "code",
      "source": [
        "import pandas as pd\n",
        "\n",
        "data = {\n",
        "        'order_id': ['12345', '12346', '12347', '12348', '12349'],\n",
        "        'product' : ['mobile', 'laptop', 'watch',' speaker','mouse'],\n",
        "        'Quantity': [2, 3, 3, 4, 5],\n",
        "        'Price': [24242,24543,45445,24543,34245]\n",
        "}\n",
        "\n",
        "df = pd.DataFrame(data)\n",
        "print(\"\\ E-commerce Sales :\")\n",
        "print(df)"
      ],
      "metadata": {
        "colab": {
          "base_uri": "https://localhost:8080/"
        },
        "id": "m4ihcP0V64KE",
        "outputId": "aed5cad6-1184-4b41-e8be-0c504dd48971"
      },
      "execution_count": 31,
      "outputs": [
        {
          "output_type": "stream",
          "name": "stdout",
          "text": [
            "\\ E-commerce Sales :\n",
            "  order_id   product  Quantity  Price\n",
            "0    12345    mobile         2  24242\n",
            "1    12346    laptop         3  24543\n",
            "2    12347     watch         3  45445\n",
            "3    12348   speaker         4  24543\n",
            "4    12349     mouse         5  34245\n"
          ]
        }
      ]
    },
    {
      "cell_type": "code",
      "source": [
        "#Calculate Total Sale per order (Quantity × Price)\n",
        "\n",
        "df['Total Sale'] = df['Quantity'] * df['Price']\n",
        "print(\"\\nTotal Sale per order:\")\n",
        "print(df)"
      ],
      "metadata": {
        "colab": {
          "base_uri": "https://localhost:8080/"
        },
        "id": "TaH_4Ym38lVF",
        "outputId": "aba5f652-8a2e-4b7a-b59b-231005e41c6c"
      },
      "execution_count": 33,
      "outputs": [
        {
          "output_type": "stream",
          "name": "stdout",
          "text": [
            "\n",
            "Total Sale per order:\n",
            "  order_id   product  Quantity  Price  Total Sale\n",
            "0    12345    mobile         2  24242       48484\n",
            "1    12346    laptop         3  24543       73629\n",
            "2    12347     watch         3  45445      136335\n",
            "3    12348   speaker         4  24543       98172\n",
            "4    12349     mouse         5  34245      171225\n"
          ]
        }
      ]
    },
    {
      "cell_type": "code",
      "source": [
        "#Filter orders where total sale > 1000\n",
        "total_sale = df['Total Sale'] > 1000\n",
        "print(\"\\nOrders where total sale > 1000:\")\n",
        "print(df[total_sale])"
      ],
      "metadata": {
        "colab": {
          "base_uri": "https://localhost:8080/"
        },
        "id": "pRy01zcR-Lf1",
        "outputId": "220a8f84-384c-465c-9898-1aa5c3825c39"
      },
      "execution_count": 35,
      "outputs": [
        {
          "output_type": "stream",
          "name": "stdout",
          "text": [
            "\n",
            "Orders where total sale > 1000:\n",
            "  order_id   product  Quantity  Price  Total Sale\n",
            "0    12345    mobile         2  24242       48484\n",
            "1    12346    laptop         3  24543       73629\n",
            "2    12347     watch         3  45445      136335\n",
            "3    12348   speaker         4  24543       98172\n",
            "4    12349     mouse         5  34245      171225\n"
          ]
        }
      ]
    },
    {
      "cell_type": "code",
      "source": [
        "#Find most sold product using groupby\n",
        "most_sold_product = df.groupby('product')['Quantity'].sum()\n",
        "print(\"\\nMost sold product:\")\n",
        "print(most_sold_product)"
      ],
      "metadata": {
        "colab": {
          "base_uri": "https://localhost:8080/"
        },
        "id": "eXasEHpu-4Yh",
        "outputId": "636ab58a-355d-4d08-c4c1-4a78e5b90772"
      },
      "execution_count": 36,
      "outputs": [
        {
          "output_type": "stream",
          "name": "stdout",
          "text": [
            "\n",
            "Most sold product:\n",
            "product\n",
            " speaker    4\n",
            "laptop      3\n",
            "mobile      2\n",
            "mouse       5\n",
            "watch       3\n",
            "Name: Quantity, dtype: int64\n"
          ]
        }
      ]
    },
    {
      "cell_type": "code",
      "source": [
        "#Add a Discount column based on sale amount\n",
        "df['Discount'] = df['Total Sale'] * 0.1\n",
        "print(\"\\nDiscount column:\")\n",
        "print(df)"
      ],
      "metadata": {
        "colab": {
          "base_uri": "https://localhost:8080/"
        },
        "id": "bD4baeti_CBg",
        "outputId": "567de125-ca36-497e-8c1b-830f1c4df97b"
      },
      "execution_count": 38,
      "outputs": [
        {
          "output_type": "stream",
          "name": "stdout",
          "text": [
            "\n",
            "Discount column:\n",
            "  order_id   product  Quantity  Price  Total Sale  Discount\n",
            "0    12345    mobile         2  24242       48484    4848.4\n",
            "1    12346    laptop         3  24543       73629    7362.9\n",
            "2    12347     watch         3  45445      136335   13633.5\n",
            "3    12348   speaker         4  24543       98172    9817.2\n",
            "4    12349     mouse         5  34245      171225   17122.5\n"
          ]
        }
      ]
    },
    {
      "cell_type": "code",
      "source": [
        "#Export the summary to Excel\n",
        "export_to_exel = df.to_excel('summary.xlsx', index=False)\n",
        "print(export_to_exel)"
      ],
      "metadata": {
        "colab": {
          "base_uri": "https://localhost:8080/"
        },
        "id": "jFe2QFtV_LWR",
        "outputId": "c78c14d6-f907-4661-da70-47f38ce3c384"
      },
      "execution_count": 40,
      "outputs": [
        {
          "output_type": "stream",
          "name": "stdout",
          "text": [
            "None\n"
          ]
        }
      ]
    },
    {
      "cell_type": "code",
      "source": [],
      "metadata": {
        "id": "gxDkasku_jdg"
      },
      "execution_count": null,
      "outputs": []
    }
  ]
}
